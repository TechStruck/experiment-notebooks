{
 "cells": [
  {
   "cell_type": "code",
   "execution_count": 1,
   "id": "1a6cdb3f-759a-4e8c-a351-79934a29c1b4",
   "metadata": {},
   "outputs": [],
   "source": [
    "# Imports\n",
    "from bs4 import BeautifulSoup\n",
    "from requests import Session"
   ]
  },
  {
   "cell_type": "code",
   "execution_count": 3,
   "id": "841f5dcf-80da-4fea-b866-94af3c490fe4",
   "metadata": {},
   "outputs": [],
   "source": [
    "import io\n",
    "import os\n",
    "import re\n",
    "import zlib\n",
    "\n",
    "# Directly taken and modified from Rapptz/RoboDanny\n",
    "# https://github.com/Rapptz/RoboDanny/blob/715a5cf8545b94d61823f62db484be4fac1c95b1/cogs/api.py\n",
    "# This code is under the Mozilla Public License 2.0\n",
    "\n",
    "\n",
    "class SphinxObjectFileReader:\n",
    "    # Inspired by Sphinx's InventoryFileReader\n",
    "    BUFSIZE = 16 * 1024\n",
    "\n",
    "    def __init__(self, buffer):\n",
    "        self.stream = io.BytesIO(buffer)\n",
    "\n",
    "    def readline(self):\n",
    "        return self.stream.readline().decode(\"utf-8\")\n",
    "\n",
    "    def skipline(self):\n",
    "        self.stream.readline()\n",
    "\n",
    "    def read_compressed_chunks(self):\n",
    "        decompressor = zlib.decompressobj()\n",
    "        while True:\n",
    "            chunk = self.stream.read(self.BUFSIZE)\n",
    "            if len(chunk) == 0:\n",
    "                break\n",
    "            yield decompressor.decompress(chunk)\n",
    "        yield decompressor.flush()\n",
    "\n",
    "    def read_compressed_lines(self):\n",
    "        buf = b\"\"\n",
    "        for chunk in self.read_compressed_chunks():\n",
    "            buf += chunk\n",
    "            pos = buf.find(b\"\\n\")\n",
    "            while pos != -1:\n",
    "                yield buf[:pos].decode(\"utf-8\")\n",
    "                buf = buf[pos + 1 :]\n",
    "                pos = buf.find(b\"\\n\")\n",
    "\n",
    "    def parse_object_inv(self, url):\n",
    "        # key: URL\n",
    "        # n.b.: key doesn't have `discord` or `discord.ext.commands` namespaces\n",
    "        result = {}\n",
    "\n",
    "        # first line is version info\n",
    "        inv_version = self.readline().rstrip()\n",
    "\n",
    "        if inv_version != \"# Sphinx inventory version 2\":\n",
    "            raise RuntimeError(\"Invalid objects.inv file version.\")\n",
    "\n",
    "        # next line is \"# Project: <name>\"\n",
    "        # then after that is \"# Version: <version>\"\n",
    "        projname = self.readline().rstrip()[11:]\n",
    "        version = self.readline().rstrip()[11:]\n",
    "\n",
    "        # next line says if it's a zlib header\n",
    "        line = self.readline()\n",
    "        if \"zlib\" not in line:\n",
    "            raise RuntimeError(\"Invalid objects.inv file, not z-lib compatible.\")\n",
    "\n",
    "        # This code mostly comes from the Sphinx repository.\n",
    "        entry_regex = re.compile(r\"(?x)(.+?)\\s+(\\S*:\\S*)\\s+(-?\\d+)\\s+(\\S+)\\s+(.*)\")\n",
    "        for line in self.read_compressed_lines():\n",
    "            match = entry_regex.match(line.rstrip())\n",
    "            if not match:\n",
    "                continue\n",
    "\n",
    "            name, directive, prio, location, dispname = match.groups()\n",
    "            domain, _, subdirective = directive.partition(\":\")\n",
    "            if directive == \"py:module\" and name in result:\n",
    "                # From the Sphinx Repository:\n",
    "                # due to a bug in 1.1 and below,\n",
    "                # two inventory entries are created\n",
    "                # for Python modules, and the first\n",
    "                # one is correct\n",
    "                continue\n",
    "\n",
    "            # Most documentation pages have a label\n",
    "            if directive == \"std:doc\":\n",
    "                subdirective = \"label\"\n",
    "\n",
    "            if location.endswith(\"$\"):\n",
    "                location = location[:-1] + name\n",
    "\n",
    "            key = name if dispname == \"-\" else dispname\n",
    "            prefix = f\"{subdirective}:\" if domain == \"std\" else \"\"\n",
    "\n",
    "            result[f\"{prefix}{key}\"] = os.path.join(url, location)\n",
    "\n",
    "        return result\n"
   ]
  },
  {
   "cell_type": "code",
   "execution_count": 58,
   "id": "716bc3dd-1d51-447b-ac13-61da1d859116",
   "metadata": {},
   "outputs": [],
   "source": [
    "base_url = \"https://docs.python.org/3\""
   ]
  },
  {
   "cell_type": "code",
   "execution_count": 59,
   "id": "816e5cdc-fd61-41f0-8c11-d72cea22d1a4",
   "metadata": {},
   "outputs": [],
   "source": [
    "session = Session()"
   ]
  },
  {
   "cell_type": "code",
   "execution_count": 60,
   "id": "36610e53-f418-4ee5-a9ab-07a68e73f65f",
   "metadata": {},
   "outputs": [],
   "source": [
    "res = session.get(base_url + \"/objects.inv\")\n",
    "sph = SphinxObjectFileReader(res.content)"
   ]
  },
  {
   "cell_type": "code",
   "execution_count": 61,
   "id": "9d29e929-92d7-4024-9601-b04c384f9435",
   "metadata": {},
   "outputs": [],
   "source": [
    "data = sph.parse_object_inv(base_url)"
   ]
  },
  {
   "cell_type": "code",
   "execution_count": 120,
   "id": "002dde50-0148-4278-89b0-00d9e8e0d1c2",
   "metadata": {},
   "outputs": [],
   "source": [
    "keys = [key for key in list(data.keys()) if is_valid(key)]"
   ]
  },
  {
   "cell_type": "code",
   "execution_count": 121,
   "id": "ba80d72f-618f-4124-b7fc-c7b8c962afcf",
   "metadata": {},
   "outputs": [],
   "source": [
    "def is_valid(key: str):\n",
    "    key = key.split(\".\")[-1]\n",
    "    return (\n",
    "        key\n",
    "        and not key.replace(\"_\", \"\").isupper()\n",
    "        and not key.startswith(\"Py\")\n",
    "        and not key.startswith(\"label:\")\n",
    "        and key[0].isupper()\n",
    "    )"
   ]
  },
  {
   "cell_type": "code",
   "execution_count": 122,
   "id": "fedb9f43-c929-42e6-a8f5-0c2e41c7849e",
   "metadata": {},
   "outputs": [],
   "source": [
    "import random"
   ]
  },
  {
   "cell_type": "code",
   "execution_count": 141,
   "id": "b03b0e44-3364-4180-b6ad-b8ec3ed3d46a",
   "metadata": {},
   "outputs": [],
   "source": [
    "fullurl = data[random.choice(keys)]\n",
    "url, id_ = fullurl.split(\"#\")"
   ]
  },
  {
   "cell_type": "code",
   "execution_count": 142,
   "id": "fff3107b-dddf-4fab-b3f3-4807510d63ea",
   "metadata": {},
   "outputs": [],
   "source": [
    "res2 = session.get(url)"
   ]
  },
  {
   "cell_type": "code",
   "execution_count": 143,
   "id": "2642b64b-c216-4ff9-b2db-359037d28582",
   "metadata": {},
   "outputs": [],
   "source": [
    "soup = BeautifulSoup(res2.text)"
   ]
  },
  {
   "cell_type": "code",
   "execution_count": 147,
   "id": "8e9736cf-382a-43f7-a404-282b23b29b6d",
   "metadata": {},
   "outputs": [
    {
     "data": {
      "text/plain": [
       "'Raised when indentation contains an inconsistent use of tabs and spaces.\\nThis is a subclass of'"
      ]
     },
     "execution_count": 147,
     "metadata": {},
     "output_type": "execute_result"
    }
   ],
   "source": [
    "e = soup.find(id=id_)\n",
    "e.parent.p.contents[0].strip()"
   ]
  },
  {
   "cell_type": "code",
   "execution_count": 148,
   "id": "5fda45f4-b36e-4ca7-8921-1a30ae26849f",
   "metadata": {},
   "outputs": [
    {
     "data": {
      "text/plain": [
       "'TabError'"
      ]
     },
     "execution_count": 148,
     "metadata": {},
     "output_type": "execute_result"
    }
   ],
   "source": [
    "id_"
   ]
  },
  {
   "cell_type": "code",
   "execution_count": 149,
   "id": "e6ebee8c-3ce6-4f2e-80e1-4d4002066a58",
   "metadata": {},
   "outputs": [
    {
     "data": {
      "text/plain": [
       "'Raised when indentation contains an inconsistent use of tabs and spaces.\\nThis is a subclass of IndentationError.'"
      ]
     },
     "execution_count": 149,
     "metadata": {},
     "output_type": "execute_result"
    }
   ],
   "source": [
    "e.parent.p.text"
   ]
  }
 ],
 "metadata": {
  "kernelspec": {
   "display_name": "Python 3",
   "language": "python",
   "name": "python3"
  },
  "language_info": {
   "codemirror_mode": {
    "name": "ipython",
    "version": 3
   },
   "file_extension": ".py",
   "mimetype": "text/x-python",
   "name": "python",
   "nbconvert_exporter": "python",
   "pygments_lexer": "ipython3",
   "version": "3.9.5"
  }
 },
 "nbformat": 4,
 "nbformat_minor": 5
}
